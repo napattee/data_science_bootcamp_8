{
  "nbformat": 4,
  "nbformat_minor": 0,
  "metadata": {
    "colab": {
      "provenance": [],
      "authorship_tag": "ABX9TyOP14Vc8/j7bjuz6BF8yEIo",
      "include_colab_link": true
    },
    "kernelspec": {
      "name": "python3",
      "display_name": "Python 3"
    },
    "language_info": {
      "name": "python"
    }
  },
  "cells": [
    {
      "cell_type": "markdown",
      "metadata": {
        "id": "view-in-github",
        "colab_type": "text"
      },
      "source": [
        "<a href=\"https://colab.research.google.com/github/napattee/data_science_bootcamp_8/blob/main/rock_paper_scissors.ipynb\" target=\"_parent\"><img src=\"https://colab.research.google.com/assets/colab-badge.svg\" alt=\"Open In Colab\"/></a>"
      ]
    },
    {
      "cell_type": "code",
      "execution_count": 1,
      "metadata": {
        "id": "5Kpf-WgccbOR"
      },
      "outputs": [],
      "source": [
        "import random\n",
        "def rock_paper_scissors():\n",
        "    set_bot = [\"rock\", \"paper\", \"scissors\"]\n",
        "    win = 0\n",
        "    lose = 0\n",
        "    tie = 0\n",
        "    while True:\n",
        "        user_action = input(\"Please choose your action between rock, paper, scissors or quit: \")\n",
        "        bot_action = random.choice(set_bot)\n",
        "        if user_action.lower() == \"quit\":\n",
        "          print(\"Nice Match! Goodbye\")\n",
        "          print(f\"Your Win : {win} \\nYour Lost : {lose} \\nTie : {tie}\")\n",
        "          break\n",
        "        elif user_action.lower() == bot_action:\n",
        "          print(\"Not Bad The result is Tie!\")\n",
        "          tie = tie + 1\n",
        "        elif user_action.lower() == \"rock\" and bot_action == \"scissors\":\n",
        "          print(\"OK You Win!\")\n",
        "          win = win + 1\n",
        "        elif user_action.lower() == \"paper\" and bot_action == \"rock\":\n",
        "          print(\"OK You Win!\")\n",
        "          win = win + 1\n",
        "        elif user_action.lower() == \"scissors\" and bot_action == \"paper\":\n",
        "          print(\"OK You Win!\")\n",
        "          win = win + 1\n",
        "        else:\n",
        "          print(\"Bot Win! You noob\")\n",
        "          lose = lose + 1"
      ]
    },
    {
      "cell_type": "code",
      "source": [
        "rock_paper_scissors()"
      ],
      "metadata": {
        "colab": {
          "base_uri": "https://localhost:8080/"
        },
        "id": "oiZ_EsnkcfF_",
        "outputId": "e444ff6e-fe74-4c6f-9a02-c0e7d0873340"
      },
      "execution_count": 2,
      "outputs": [
        {
          "output_type": "stream",
          "name": "stdout",
          "text": [
            "Please choose your action between rock, paper, scissors or quit: rock\n",
            "Bot Win! You noob\n",
            "Please choose your action between rock, paper, scissors or quit: paper\n",
            "Bot Win! You noob\n",
            "Please choose your action between rock, paper, scissors or quit: scissors\n",
            "Not Bad The result is Tie!\n",
            "Please choose your action between rock, paper, scissors or quit: quit\n",
            "Nice Match! Goodbye\n",
            "Your Win : 0 \n",
            "Your Lost : 2 \n",
            "Tie : 1\n"
          ]
        }
      ]
    },
    {
      "cell_type": "code",
      "source": [],
      "metadata": {
        "id": "mbaNZiuQci5M"
      },
      "execution_count": null,
      "outputs": []
    }
  ]
}