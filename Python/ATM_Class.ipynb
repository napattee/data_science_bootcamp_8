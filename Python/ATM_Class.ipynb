{
  "nbformat": 4,
  "nbformat_minor": 0,
  "metadata": {
    "colab": {
      "provenance": [],
      "authorship_tag": "ABX9TyP+tqO3eoAUJ67d1jdwoRKN",
      "include_colab_link": true
    },
    "kernelspec": {
      "name": "python3",
      "display_name": "Python 3"
    },
    "language_info": {
      "name": "python"
    }
  },
  "cells": [
    {
      "cell_type": "markdown",
      "metadata": {
        "id": "view-in-github",
        "colab_type": "text"
      },
      "source": [
        "<a href=\"https://colab.research.google.com/github/napattee/data_science_bootcamp_8/blob/main/ATM_Class.ipynb\" target=\"_parent\"><img src=\"https://colab.research.google.com/assets/colab-badge.svg\" alt=\"Open In Colab\"/></a>"
      ]
    },
    {
      "cell_type": "code",
      "source": [
        "class ATM:\n",
        "    def __init__(self, name, bank, card, pin, balance):\n",
        "        self.name = name\n",
        "        self.bank = bank\n",
        "        self.card = card\n",
        "        self.pin = pin\n",
        "        self.balance = balance\n",
        "\n",
        "    def deposit(self, amount):\n",
        "        self.balance = self.balance + amount\n",
        "        print(f\"You deposit {amount} Baht, Your current account balance : {self.balance} Baht.\")\n",
        "\n",
        "    def withdraw(self,amount):\n",
        "        self.balance = self.balance - amount\n",
        "        print(f\"You withdraw {amount} Baht, Your current account balance : {self.balance} Baht.\")\n",
        "\n",
        "    def transfer(self, amount, tranferbank,account):\n",
        "        self.balance = self.balance - amount\n",
        "        print(f\"You transfer {amount} Baht to bank: {tranferbank} account: {account}  \\nYour current account balance : {self.balance} Baht.\")\n",
        "\n",
        "    def change_pin(self):\n",
        "        new_pin = input(\"Please enter your new pin: \")\n",
        "        self.pin = new_pin\n",
        "        print(f\"Your pin have been updated. \\nYour new pin is {self.pin} \")"
      ],
      "metadata": {
        "id": "mbaNZiuQci5M"
      },
      "execution_count": 4,
      "outputs": []
    },
    {
      "cell_type": "code",
      "source": [
        "atm1 = ATM(\"TONNAM\",\"KTB\", \"123-123-123-123\", \"121212\", 50000)"
      ],
      "metadata": {
        "id": "4WBS4iUzm-aY"
      },
      "execution_count": 5,
      "outputs": []
    },
    {
      "cell_type": "code",
      "source": [
        "atm1.bank"
      ],
      "metadata": {
        "colab": {
          "base_uri": "https://localhost:8080/",
          "height": 35
        },
        "id": "3-8ZTwQanKpQ",
        "outputId": "b1551bcf-264c-4979-cf52-c69dd5884237"
      },
      "execution_count": 6,
      "outputs": [
        {
          "output_type": "execute_result",
          "data": {
            "text/plain": [
              "'KTB'"
            ],
            "application/vnd.google.colaboratory.intrinsic+json": {
              "type": "string"
            }
          },
          "metadata": {},
          "execution_count": 6
        }
      ]
    },
    {
      "cell_type": "code",
      "source": [
        "atm1.deposit(30000)"
      ],
      "metadata": {
        "colab": {
          "base_uri": "https://localhost:8080/"
        },
        "id": "RaTkKAQ6nOgY",
        "outputId": "7d38f86b-9ebd-43b9-ca9a-36638553eb68"
      },
      "execution_count": 7,
      "outputs": [
        {
          "output_type": "stream",
          "name": "stdout",
          "text": [
            "You deposit 30000 Baht, Your current account balance : 80000 Baht.\n"
          ]
        }
      ]
    },
    {
      "cell_type": "code",
      "source": [
        "atm1.transfer(20000,\"SCB\",\"12344567\")"
      ],
      "metadata": {
        "colab": {
          "base_uri": "https://localhost:8080/"
        },
        "id": "L8ofyUytnSV_",
        "outputId": "7cd2f1ca-f390-4454-a332-277e1e360752"
      },
      "execution_count": 8,
      "outputs": [
        {
          "output_type": "stream",
          "name": "stdout",
          "text": [
            "You transfer 20000 Baht to bank: SCB account: 12344567  \n",
            "Your current account balance : 60000 Baht.\n"
          ]
        }
      ]
    },
    {
      "cell_type": "code",
      "source": [
        "atm1.change_pin()"
      ],
      "metadata": {
        "colab": {
          "base_uri": "https://localhost:8080/"
        },
        "id": "txMDYOeynXvq",
        "outputId": "42b6094c-c6fb-44c6-ad20-6f77c152dcf6"
      },
      "execution_count": 9,
      "outputs": [
        {
          "output_type": "stream",
          "name": "stdout",
          "text": [
            "Please enter your new pin: 123123\n",
            "Your pin have been updated. \n",
            "Your new pin is 123123 \n"
          ]
        }
      ]
    },
    {
      "cell_type": "code",
      "source": [
        "atm1.pin"
      ],
      "metadata": {
        "colab": {
          "base_uri": "https://localhost:8080/",
          "height": 35
        },
        "id": "C7yxgWTvngtN",
        "outputId": "59b1fef5-73e2-4c5f-9671-1afe3d874b62"
      },
      "execution_count": 10,
      "outputs": [
        {
          "output_type": "execute_result",
          "data": {
            "text/plain": [
              "'123123'"
            ],
            "application/vnd.google.colaboratory.intrinsic+json": {
              "type": "string"
            }
          },
          "metadata": {},
          "execution_count": 10
        }
      ]
    }
  ]
}
