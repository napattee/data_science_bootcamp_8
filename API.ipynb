{
  "nbformat": 4,
  "nbformat_minor": 0,
  "metadata": {
    "colab": {
      "provenance": [],
      "authorship_tag": "ABX9TyNqSGPU1HhFhQ1WpNMAZqDh",
      "include_colab_link": true
    },
    "kernelspec": {
      "name": "python3",
      "display_name": "Python 3"
    },
    "language_info": {
      "name": "python"
    }
  },
  "cells": [
    {
      "cell_type": "markdown",
      "metadata": {
        "id": "view-in-github",
        "colab_type": "text"
      },
      "source": [
        "<a href=\"https://colab.research.google.com/github/napattee/data_science_bootcamp_8/blob/main/API.ipynb\" target=\"_parent\"><img src=\"https://colab.research.google.com/assets/colab-badge.svg\" alt=\"Open In Colab\"/></a>"
      ]
    },
    {
      "cell_type": "code",
      "source": [
        "import requests\n",
        "import time\n",
        "import random\n",
        "\n",
        "\n",
        "id = []\n",
        "\n",
        "for x in range(5):\n",
        "  id.append(random.randrange(1,30))\n",
        "\n",
        "characters = []\n",
        "\n",
        "for y in id:\n",
        "    url = f\"https://swapi.dev/api/people/{y}\"\n",
        "    resp = requests.get(url)\n",
        "\n",
        "    if resp.status_code == 200:\n",
        "        data = resp.json()\n",
        "        data_info = {\n",
        "            \"name\" : data[\"name\"],\n",
        "            \"height\" : data[\"height\"],\n",
        "            \"mass\" : data[\"mass\"],\n",
        "            \"birth_year\" : data[\"birth_year\"]\n",
        "        }\n",
        "        characters.append(data_info)\n",
        "\n",
        "    time.sleep(1)"
      ],
      "metadata": {
        "id": "mbaNZiuQci5M"
      },
      "execution_count": 16,
      "outputs": []
    },
    {
      "cell_type": "code",
      "source": [
        "characters"
      ],
      "metadata": {
        "colab": {
          "base_uri": "https://localhost:8080/"
        },
        "id": "qU8gXOMBohwp",
        "outputId": "e6c27caf-5177-46da-f69f-7d12d85d8cd3"
      },
      "execution_count": 17,
      "outputs": [
        {
          "output_type": "execute_result",
          "data": {
            "text/plain": [
              "[{'name': 'R2-D2', 'height': '96', 'mass': '32', 'birth_year': '33BBY'},\n",
              " {'name': 'Luke Skywalker',\n",
              "  'height': '172',\n",
              "  'mass': '77',\n",
              "  'birth_year': '19BBY'},\n",
              " {'name': 'R5-D4', 'height': '97', 'mass': '32', 'birth_year': 'unknown'},\n",
              " {'name': 'Chewbacca', 'height': '228', 'mass': '112', 'birth_year': '200BBY'},\n",
              " {'name': 'Greedo', 'height': '173', 'mass': '74', 'birth_year': '44BBY'}]"
            ]
          },
          "metadata": {},
          "execution_count": 17
        }
      ]
    }
  ]
}